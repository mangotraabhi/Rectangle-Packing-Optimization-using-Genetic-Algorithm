{
  "nbformat": 4,
  "nbformat_minor": 0,
  "metadata": {
    "colab": {
      "provenance": [],
      "gpuType": "T4"
    },
    "kernelspec": {
      "name": "python3",
      "display_name": "Python 3"
    },
    "language_info": {
      "name": "python"
    },
    "accelerator": "GPU"
  },
  "cells": [
    {
      "cell_type": "code",
      "execution_count": 2,
      "metadata": {
        "colab": {
          "base_uri": "https://localhost:8080/"
        },
        "id": "lZrmnKwfLIGR",
        "outputId": "6a02f2eb-e621-4287-853c-333a4e17193b"
      },
      "outputs": [
        {
          "output_type": "stream",
          "name": "stdout",
          "text": [
            "Collecting torch_geometric\n",
            "  Downloading torch_geometric-2.6.1-py3-none-any.whl.metadata (63 kB)\n",
            "\u001b[?25l     \u001b[90m━━━━━━━━━━━━━━━━━━━━━━━━━━━━━━━━━━━━━━━━\u001b[0m \u001b[32m0.0/63.1 kB\u001b[0m \u001b[31m?\u001b[0m eta \u001b[36m-:--:--\u001b[0m\r\u001b[2K     \u001b[90m━━━━━━━━━━━━━━━━━━━━━━━━━━━━━━━━━━━━━━━━\u001b[0m \u001b[32m63.1/63.1 kB\u001b[0m \u001b[31m2.7 MB/s\u001b[0m eta \u001b[36m0:00:00\u001b[0m\n",
            "\u001b[?25hRequirement already satisfied: aiohttp in /usr/local/lib/python3.10/dist-packages (from torch_geometric) (3.11.10)\n",
            "Requirement already satisfied: fsspec in /usr/local/lib/python3.10/dist-packages (from torch_geometric) (2024.10.0)\n",
            "Requirement already satisfied: jinja2 in /usr/local/lib/python3.10/dist-packages (from torch_geometric) (3.1.4)\n",
            "Requirement already satisfied: numpy in /usr/local/lib/python3.10/dist-packages (from torch_geometric) (1.26.4)\n",
            "Requirement already satisfied: psutil>=5.8.0 in /usr/local/lib/python3.10/dist-packages (from torch_geometric) (5.9.5)\n",
            "Requirement already satisfied: pyparsing in /usr/local/lib/python3.10/dist-packages (from torch_geometric) (3.2.0)\n",
            "Requirement already satisfied: requests in /usr/local/lib/python3.10/dist-packages (from torch_geometric) (2.32.3)\n",
            "Requirement already satisfied: tqdm in /usr/local/lib/python3.10/dist-packages (from torch_geometric) (4.67.1)\n",
            "Requirement already satisfied: aiohappyeyeballs>=2.3.0 in /usr/local/lib/python3.10/dist-packages (from aiohttp->torch_geometric) (2.4.4)\n",
            "Requirement already satisfied: aiosignal>=1.1.2 in /usr/local/lib/python3.10/dist-packages (from aiohttp->torch_geometric) (1.3.2)\n",
            "Requirement already satisfied: async-timeout<6.0,>=4.0 in /usr/local/lib/python3.10/dist-packages (from aiohttp->torch_geometric) (4.0.3)\n",
            "Requirement already satisfied: attrs>=17.3.0 in /usr/local/lib/python3.10/dist-packages (from aiohttp->torch_geometric) (24.3.0)\n",
            "Requirement already satisfied: frozenlist>=1.1.1 in /usr/local/lib/python3.10/dist-packages (from aiohttp->torch_geometric) (1.5.0)\n",
            "Requirement already satisfied: multidict<7.0,>=4.5 in /usr/local/lib/python3.10/dist-packages (from aiohttp->torch_geometric) (6.1.0)\n",
            "Requirement already satisfied: propcache>=0.2.0 in /usr/local/lib/python3.10/dist-packages (from aiohttp->torch_geometric) (0.2.1)\n",
            "Requirement already satisfied: yarl<2.0,>=1.17.0 in /usr/local/lib/python3.10/dist-packages (from aiohttp->torch_geometric) (1.18.3)\n",
            "Requirement already satisfied: MarkupSafe>=2.0 in /usr/local/lib/python3.10/dist-packages (from jinja2->torch_geometric) (3.0.2)\n",
            "Requirement already satisfied: charset-normalizer<4,>=2 in /usr/local/lib/python3.10/dist-packages (from requests->torch_geometric) (3.4.0)\n",
            "Requirement already satisfied: idna<4,>=2.5 in /usr/local/lib/python3.10/dist-packages (from requests->torch_geometric) (3.10)\n",
            "Requirement already satisfied: urllib3<3,>=1.21.1 in /usr/local/lib/python3.10/dist-packages (from requests->torch_geometric) (2.2.3)\n",
            "Requirement already satisfied: certifi>=2017.4.17 in /usr/local/lib/python3.10/dist-packages (from requests->torch_geometric) (2024.12.14)\n",
            "Requirement already satisfied: typing-extensions>=4.1.0 in /usr/local/lib/python3.10/dist-packages (from multidict<7.0,>=4.5->aiohttp->torch_geometric) (4.12.2)\n",
            "Downloading torch_geometric-2.6.1-py3-none-any.whl (1.1 MB)\n",
            "\u001b[2K   \u001b[90m━━━━━━━━━━━━━━━━━━━━━━━━━━━━━━━━━━━━━━━━\u001b[0m \u001b[32m1.1/1.1 MB\u001b[0m \u001b[31m40.8 MB/s\u001b[0m eta \u001b[36m0:00:00\u001b[0m\n",
            "\u001b[?25hInstalling collected packages: torch_geometric\n",
            "Successfully installed torch_geometric-2.6.1\n"
          ]
        }
      ],
      "source": [
        "!pip install torch_geometric"
      ]
    },
    {
      "cell_type": "code",
      "source": [
        "import torch\n",
        "print(torch.__version__)"
      ],
      "metadata": {
        "colab": {
          "base_uri": "https://localhost:8080/"
        },
        "id": "ZoI3zMdHLT2n",
        "outputId": "52e0ebb7-db9f-41ca-9cc9-0119c4f3ec58"
      },
      "execution_count": 4,
      "outputs": [
        {
          "output_type": "stream",
          "name": "stdout",
          "text": [
            "2.5.1+cu121\n"
          ]
        }
      ]
    },
    {
      "cell_type": "code",
      "source": [
        "import random\n",
        "import numpy as np\n",
        "import matplotlib.pyplot as plt\n",
        "from matplotlib.patches import Rectangle\n",
        "import networkx as nx\n",
        "import torch\n",
        "from torch_geometric.data import Data\n",
        "from torch_geometric.nn import GATConv\n",
        "import torch.nn.functional as F"
      ],
      "metadata": {
        "id": "ni_bb1gULY0L"
      },
      "execution_count": 5,
      "outputs": []
    },
    {
      "cell_type": "code",
      "source": [
        "# Bin dimensions\n",
        "BIN_WIDTH = 80\n",
        "BIN_HEIGHT = 40\n",
        "\n",
        "# Number of rectangles\n",
        "NUM_RECTANGLES = 8\n",
        "\n",
        "# Rectangle dimensions (randomly generated)\n",
        "rectangles = [(random.randint(5, 20), random.randint(5, 20)) for _ in range(NUM_RECTANGLES)]\n",
        "\n",
        "# Define constraint graph with 0-based indexing\n",
        "constraint_graph = nx.Graph()\n",
        "constraint_graph.add_nodes_from(range(NUM_RECTANGLES))  # Add all rectangles as nodes 0 to 7\n",
        "constraint_graph.add_edges_from([(2, 3), (2, 4), (2, 7), (6, 5), (6, 1)])  # 0-based indexing"
      ],
      "metadata": {
        "id": "5HiZrLiALdjE"
      },
      "execution_count": 6,
      "outputs": []
    },
    {
      "cell_type": "code",
      "source": [
        "# Convert NetworkX graph to PyTorch Geometric Data object\n",
        "edge_index = torch.tensor(list(constraint_graph.edges), dtype=torch.long).t().contiguous()\n",
        "x = torch.tensor([[w, h] for (w, h) in rectangles], dtype=torch.float)\n",
        "data = Data(x=x, edge_index=edge_index)"
      ],
      "metadata": {
        "id": "YK-66HMlN7x6"
      },
      "execution_count": 7,
      "outputs": []
    },
    {
      "cell_type": "code",
      "source": [
        "# GAT Model\n",
        "class GAT(torch.nn.Module):\n",
        "    def __init__(self):\n",
        "        super(GAT, self).__init__()\n",
        "        self.conv1 = GATConv(2, 8, heads=2)\n",
        "        self.conv2 = GATConv(16, 8, heads=1)\n",
        "        self.fc = torch.nn.Linear(8, 1)\n",
        "\n",
        "    def forward(self, data):\n",
        "        x, edge_index = data.x, data.edge_index\n",
        "        x = F.relu(self.conv1(x, edge_index))\n",
        "        x = F.relu(self.conv2(x, edge_index))\n",
        "        x = self.fc(x)\n",
        "        return x\n",
        "\n",
        "model = GAT()"
      ],
      "metadata": {
        "id": "lsgZQ3qON-uk"
      },
      "execution_count": 8,
      "outputs": []
    },
    {
      "cell_type": "code",
      "source": [
        "# Constraints handling\n",
        "def is_valid_placement(rectangles_placement):\n",
        "    for i, (x1, y1, w1, h1) in enumerate(rectangles_placement):\n",
        "        # Check if rectangle is within bin boundaries\n",
        "        if x1 < 0 or y1 < 0 or x1 + w1 > BIN_WIDTH or y1 + h1 > BIN_HEIGHT:\n",
        "            return False\n",
        "        # Check separation and overlap with other rectangles\n",
        "        for j, (x2, y2, w2, h2) in enumerate(rectangles_placement):\n",
        "            if i != j:\n",
        "                if not (x1 + w1 + 1 <= x2 or x2 + w2 + 1 <= x1 or y1 + h1 + 1 <= y2 or y2 + h2 + 1 <= y1):\n",
        "                    return False\n",
        "    return True"
      ],
      "metadata": {
        "id": "beurROupOBLb"
      },
      "execution_count": 9,
      "outputs": []
    },
    {
      "cell_type": "code",
      "source": [
        "# Distance penalty for constraint violations\n",
        "def distance_penalty(rectangles_placement, constraint_graph):\n",
        "    penalty = 0\n",
        "    for rect_id in constraint_graph.nodes:\n",
        "        rect_index = rect_id  # 0-based indexing\n",
        "        rect_x, rect_y, rect_w, rect_h = rectangles_placement[rect_index]\n",
        "        rect_center = (rect_x + rect_w / 2, rect_y + rect_h / 2)\n",
        "        for neighbor in constraint_graph.neighbors(rect_id):\n",
        "            neighbor_index = neighbor  # 0-based indexing\n",
        "            neighbor_x, neighbor_y, neighbor_w, neighbor_h = rectangles_placement[neighbor_index]\n",
        "            neighbor_center = (neighbor_x + neighbor_w / 2, neighbor_y + neighbor_h / 2)\n",
        "            distance = np.sqrt((rect_center[0] - neighbor_center[0])**2 + (rect_center[1] - neighbor_center[1])**2)\n",
        "            if distance > 10:  # Threshold for 'close'\n",
        "                penalty += distance - 10  # Penalty is the excess distance\n",
        "    return penalty"
      ],
      "metadata": {
        "id": "krS3uUhNOEKc"
      },
      "execution_count": 10,
      "outputs": []
    },
    {
      "cell_type": "code",
      "source": [
        "# Fitness function incorporating GAT predictions\n",
        "def fitness_function(rectangles_placement, model, data):\n",
        "    # Get GAT predictions\n",
        "    with torch.no_grad():\n",
        "        predictions = model(data)\n",
        "    # Calculate objective function\n",
        "    total_area = BIN_WIDTH * BIN_HEIGHT\n",
        "    used_area = sum(w * h for (_, _, w, h) in rectangles_placement)\n",
        "    unused_area = total_area - used_area\n",
        "    # Penalty for constraint violations\n",
        "    penalty = distance_penalty(rectangles_placement, constraint_graph)\n",
        "    # Combine unused area, penalty, and GAT predictions\n",
        "    fitness = unused_area + penalty - predictions.sum().item()\n",
        "    return fitness"
      ],
      "metadata": {
        "id": "FPWqJi9qOGyF"
      },
      "execution_count": 11,
      "outputs": []
    },
    {
      "cell_type": "code",
      "source": [
        "# Genetic Algorithm with GAT\n",
        "def genetic_algorithm_gat(population_size, generations, model, data):\n",
        "    population = []\n",
        "    while len(population) < population_size:\n",
        "        placement = []\n",
        "        for i, (w, h) in enumerate(rectangles):\n",
        "            if i == 0:  # Rectangle 1 (top side)\n",
        "                x = random.randint(0, BIN_WIDTH - w)\n",
        "                y = BIN_HEIGHT - h\n",
        "            elif i == 1:  # Rectangle 2 (bottom side)\n",
        "                x = random.randint(0, BIN_WIDTH - w)\n",
        "                y = 0\n",
        "            else:\n",
        "                x = random.randint(0, BIN_WIDTH - w)\n",
        "                y = random.randint(0, BIN_HEIGHT - h)\n",
        "            placement.append((x, y, w, h))\n",
        "        if is_valid_placement(placement):\n",
        "            population.append(placement)\n",
        "\n",
        "    best_fitness_per_generation = []\n",
        "\n",
        "    for generation in range(generations):\n",
        "        population = sorted(population, key=lambda x: fitness_function(x, model, data))\n",
        "        best_fitness_per_generation.append(fitness_function(population[0], model, data))\n",
        "        new_population = [population[0]]  # Keep the best solution\n",
        "        while len(new_population) < population_size:\n",
        "            parent1, parent2 = random.choices(population[:10], k=2)\n",
        "            child = []\n",
        "            for i in range(NUM_RECTANGLES):\n",
        "                if random.random() < 0.5:\n",
        "                    child.append(parent1[i])\n",
        "                else:\n",
        "                    child.append(parent2[i])\n",
        "            # Mutation\n",
        "            if random.random() < 0.1:\n",
        "                idx = random.randint(0, NUM_RECTANGLES - 1)\n",
        "                if idx == 0:\n",
        "                    x = random.randint(0, BIN_WIDTH - rectangles[idx][0])\n",
        "                    y = BIN_HEIGHT - rectangles[idx][1]\n",
        "                elif idx == 1:\n",
        "                    x = random.randint(0, BIN_WIDTH - rectangles[idx][0])\n",
        "                    y = 0\n",
        "                else:\n",
        "                    x = random.randint(0, BIN_WIDTH - rectangles[idx][0])\n",
        "                    y = random.randint(0, BIN_HEIGHT - rectangles[idx][1])\n",
        "                child[idx] = (x, y, rectangles[idx][0], rectangles[idx][1])\n",
        "            if is_valid_placement(child):\n",
        "                new_population.append(child)\n",
        "        population = new_population\n",
        "\n",
        "    # Plot training progress\n",
        "    plt.figure(figsize=(10, 6))\n",
        "    plt.plot(range(generations), best_fitness_per_generation)\n",
        "    plt.title('Training Progress with GAT')\n",
        "    plt.xlabel('Generation')\n",
        "    plt.ylabel('Best Fitness')\n",
        "    plt.show()\n",
        "\n",
        "    return population[0]"
      ],
      "metadata": {
        "id": "TvxeSdHAOJzb"
      },
      "execution_count": 12,
      "outputs": []
    },
    {
      "cell_type": "code",
      "source": [
        "# Run the genetic algorithm with GAT\n",
        "best_placement = genetic_algorithm_gat(population_size=50, generations=100, model=model, data=data)"
      ],
      "metadata": {
        "colab": {
          "base_uri": "https://localhost:8080/",
          "height": 564
        },
        "id": "BREDu2W-ORlv",
        "outputId": "abec6d81-0034-40c7-ea97-70c39702f028"
      },
      "execution_count": 13,
      "outputs": [
        {
          "output_type": "display_data",
          "data": {
            "text/plain": [
              "<Figure size 1000x600 with 1 Axes>"
            ],
            "image/png": "[encoded data removed]"
          },
          "metadata": {}
        }
      ]
    },
    {
      "cell_type": "code",
      "source": [
        "# Print the best placement\n",
        "print(\"Best placement:\")\n",
        "for i, (x, y, w, h) in enumerate(best_placement):\n",
        "    print(f\"Rectangle {i + 1}: (x={x}, y={y}, w={w}, h={h})\")"
      ],
      "metadata": {
        "colab": {
          "base_uri": "https://localhost:8080/"
        },
        "id": "OtnCnwriOYMm",
        "outputId": "adfd81d6-9c9e-4b04-a6dd-3924ab9d8025"
      },
      "execution_count": 14,
      "outputs": [
        {
          "output_type": "stream",
          "name": "stdout",
          "text": [
            "Best placement:\n",
            "Rectangle 1: (x=30, y=22, w=7, h=18)\n",
            "Rectangle 2: (x=53, y=0, w=7, h=17)\n",
            "Rectangle 3: (x=29, y=11, w=17, h=10)\n",
            "Rectangle 4: (x=39, y=23, w=19, h=15)\n",
            "Rectangle 5: (x=22, y=0, w=15, h=9)\n",
            "Rectangle 6: (x=63, y=17, w=5, h=5)\n",
            "Rectangle 7: (x=61, y=1, w=19, h=15)\n",
            "Rectangle 8: (x=8, y=16, w=17, h=20)\n"
          ]
        }
      ]
    },
    {
      "cell_type": "code",
      "source": [
        "# Plot the result\n",
        "fig, ax = plt.subplots()\n",
        "ax.set_xlim(0, BIN_WIDTH)\n",
        "ax.set_ylim(0, BIN_HEIGHT)\n",
        "\n",
        "for i, (x, y, w, h) in enumerate(best_placement):\n",
        "    ax.add_patch(Rectangle((x, y), w, h, edgecolor='black', facecolor='blue', alpha=0.5))\n",
        "    ax.text(x + w / 2, y + h / 2, str(i + 1), color='white', ha='center', va='center')\n",
        "\n",
        "plt.gca().set_aspect('equal', adjustable='box')\n",
        "plt.show()"
      ],
      "metadata": {
        "colab": {
          "base_uri": "https://localhost:8080/",
          "height": 314
        },
        "id": "MdoqN4nhOex4",
        "outputId": "fa33200a-c0b5-4fdd-d92a-e5a341e5f155"
      },
      "execution_count": 15,
      "outputs": [
        {
          "output_type": "display_data",
          "data": {
            "text/plain": [
              "<Figure size 640x480 with 1 Axes>"
            ],
            "image/png": "[encoded data removed]"
          },
          "metadata": {}
        }
      ]
    },
    {
      "cell_type": "code",
      "source": [],
      "metadata": {
        "id": "sN9uaZlmOmCq"
      },
      "execution_count": null,
      "outputs": []
    }
  ]
}